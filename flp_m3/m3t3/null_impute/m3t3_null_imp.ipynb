{
 "cells": [
  {
   "cell_type": "code",
   "execution_count": null,
   "metadata": {},
   "outputs": [],
   "source": [
    "class DataFrameTransform:\n",
    "    @staticmethod\n",
    "    def impute_mean(df, column_name):\n",
    "        if column_name in df.columns and df[column_name].dtype in [np.float64, np.int64]:\n",
    "            mean_value = df[column_name].mean()\n",
    "            df = df.copy()\n",
    "            df.loc[df[column_name].isna(), column_name] = mean_value\n",
    "            print(f\"Imputed mean value {mean_value:.2f} into null values of '{column_name}'\")\n",
    "        return df\n",
    "\n",
    "    @staticmethod\n",
    "    def impute_median(df, column_name):\n",
    "        if column_name in df.columns and df[column_name].dtype in [np.float64, np.int64]:\n",
    "            median_value = df[column_name].median()\n",
    "            df = df.copy()\n",
    "            df.loc[df[column_name].isna(), column_name] = median_value\n",
    "            print(f\"Imputed median value {median_value:.2f} into null values of '{column_name}'\")\n",
    "        return df\n",
    "\n",
    "    @staticmethod\n",
    "    def impute_mode(df, column_name):\n",
    "        if column_name in df.columns:\n",
    "            mode_value = df[column_name].mode()\n",
    "            if not mode_value.empty:\n",
    "                df = df.copy()\n",
    "                df.loc[df[column_name].isna(), column_name] = mode_value[0]\n",
    "                print(f\"Imputed mode value '{mode_value[0]}' into null values of '{column_name}'\")\n",
    "        return df\n"
   ]
  }
 ],
 "metadata": {
  "language_info": {
   "name": "python"
  }
 },
 "nbformat": 4,
 "nbformat_minor": 2
}
