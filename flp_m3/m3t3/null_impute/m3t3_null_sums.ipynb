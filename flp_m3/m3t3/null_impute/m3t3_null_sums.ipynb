{
 "cells": [
  {
   "cell_type": "code",
   "execution_count": null,
   "metadata": {},
   "outputs": [],
   "source": [
    "def sum_nulls(df):\n",
    "    null_counts = df.isnull().sum()\n",
    "    total_rows = len(df)\n",
    "    null_percentages = (null_counts / total_rows) * 100\n",
    "\n",
    "    summary = pd.DataFrame({\n",
    "        'Column': df.columns,\n",
    "        'Null Count': null_counts,\n",
    "        'Null Percentage': null_percentages\n",
    "    }).reset_index(drop=True)\n",
    "\n",
    "    return summary\n",
    "\n"
   ]
  },
  {
   "cell_type": "code",
   "execution_count": null,
   "metadata": {},
   "outputs": [],
   "source": [
    "def onlynulls(df):\n",
    "    columns_with_nulls = df.columns[df.isnull().any()]\n",
    "    df_with_nulls = df[columns_with_nulls]\n",
    "    null_counts = df_with_nulls.isnull().sum()\n",
    "    total_rows = len(df_with_nulls)\n",
    "    null_percentages = (null_counts / total_rows) * 100\n",
    "\n",
    "    summary = pd.DataFrame({\n",
    "        'Column': df_with_nulls.columns,\n",
    "        'Null Count': null_counts,\n",
    "        'Null Percentage': null_percentages\n",
    "    }).reset_index(drop=True)\n",
    "\n",
    "    return summary\n",
    "\n"
   ]
  }
 ],
 "metadata": {
  "language_info": {
   "name": "python"
  }
 },
 "nbformat": 4,
 "nbformat_minor": 2
}
