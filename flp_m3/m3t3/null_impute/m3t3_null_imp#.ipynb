{
 "cells": [
  {
   "cell_type": "code",
   "execution_count": null,
   "metadata": {},
   "outputs": [],
   "source": [
    "class DataFrameTransform: # class intiated.\n",
    "    \"\"\"\n",
    "    @static method was used here after some experimentation, as having the function a pure class method\n",
    "    lead to issues, and ment that if I wanted to change the change the df multiple times, I couldn't\n",
    "    without reintiating an new isntance of the class, with the upated df which was cumbersome. \n",
    "    this way allows the functions to be stand alone and do as I want while still grouping them together.\n",
    "    \n",
    "    \"\"\"\n",
    "    @staticmethod\n",
    "    def impute_mean(df, column_name): # parameter of the column name. \n",
    "        if column_name in df.columns and df[column_name].dtype in [np.float64, np.int64]: # makes sure the column name exists and is numeric value. \n",
    "            mean_value = df[column_name].mean() # uses inbuilt pd mean function to work out the mean of an entire column. \n",
    "            df = df.copy() # creates a copy of the df stoping it from being modified in place. \n",
    "            df.loc[df[column_name].isna(), column_name] = mean_value # inputes that mean value in the column where there are nulls values. \n",
    "            print(f\"Imputed mean value {mean_value:.2f} into null values of '{column_name}'\") # prints the mean value imputed to 2dp. \n",
    "        return df\n",
    "\n",
    "    @staticmethod\n",
    "    def impute_median(df, column_name):\n",
    "        if column_name in df.columns and df[column_name].dtype in [np.float64, np.int64]:\n",
    "            median_value = df[column_name].median() # uses inbuilt pd median function. \n",
    "            df = df.copy()\n",
    "            df.loc[df[column_name].isna(), column_name] = median_value\n",
    "            print(f\"Imputed median value {median_value:.2f} into null values of '{column_name}'\")\n",
    "        return df\n",
    "\n",
    "    @staticmethod\n",
    "    def impute_mode(df, column_name):\n",
    "        if column_name in df.columns:\n",
    "            mode_value = df[column_name].mode() # uses pd inbuilt mode function. \n",
    "            if not mode_value.empty: # if there actually is a mode value. \n",
    "                df = df.copy()\n",
    "                df.loc[df[column_name].isna(), column_name] = mode_value[0] # imputes the mode making sure the first index mode value is chosen. \n",
    "                print(f\"Imputed mode value '{mode_value[0]}' into null values of '{column_name}'\") # prints the first index mode value imputed. \n",
    "        return df"
   ]
  }
 ],
 "metadata": {
  "language_info": {
   "name": "python"
  }
 },
 "nbformat": 4,
 "nbformat_minor": 2
}
