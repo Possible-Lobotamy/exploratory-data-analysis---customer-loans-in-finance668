{
 "cells": [
  {
   "cell_type": "code",
   "execution_count": null,
   "metadata": {},
   "outputs": [],
   "source": [
    "def sum_nulls(df): # function to sumarize the amount of nulls and null % of each column. \n",
    "    null_counts = df.isnull().sum() # sum of all the nulls in each column. \n",
    "    total_rows = len(df) # the length of the columns \n",
    "    null_percentages = (null_counts / total_rows) * 100 # self explanatory. \n",
    "\n",
    "    summary = pd.DataFrame({ \n",
    "        'Column': df.columns,\n",
    "        'Null Count': null_counts,\n",
    "        'Null Percentage': null_percentages\n",
    "    }).reset_index(drop=True) # the summary as pd df, using a dictionary input and reseting the index for clarity. \n",
    "\n",
    "    return summary\n"
   ]
  },
  {
   "cell_type": "code",
   "execution_count": null,
   "metadata": {},
   "outputs": [],
   "source": [
    "def onlynulls(df): # essentially the same function but creating a containing the only columns that contain null values. \n",
    "    columns_with_nulls = df.columns[df.isnull().any()] # creating the filter \n",
    "    df_with_nulls = df[columns_with_nulls] # applying it to the df. \n",
    "    null_counts = df_with_nulls.isnull().sum()\n",
    "    total_rows = len(df_with_nulls)\n",
    "    null_percentages = (null_counts / total_rows) * 100\n",
    "\n",
    "    summary = pd.DataFrame({\n",
    "        'Column': df_with_nulls.columns,\n",
    "        'Null Count': null_counts,\n",
    "        'Null Percentage': null_percentages\n",
    "    }).reset_index(drop=True)\n",
    "\n",
    "    return summary\n",
    "\n"
   ]
  }
 ],
 "metadata": {
  "language_info": {
   "name": "python"
  }
 },
 "nbformat": 4,
 "nbformat_minor": 2
}
