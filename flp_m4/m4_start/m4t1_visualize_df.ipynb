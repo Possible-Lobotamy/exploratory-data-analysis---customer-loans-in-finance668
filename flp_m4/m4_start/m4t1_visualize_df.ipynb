{
 "cells": [
  {
   "cell_type": "code",
   "execution_count": 1,
   "metadata": {},
   "outputs": [],
   "source": [
    "import numpy as np  # as always import the nesscary packages / libraries. \n",
    "import pandas as pd\n",
    "import seaborn as sns\n",
    "from scipy import stats\n",
    "import matplotlib.pyplot as plt\n",
    "from pandasgui import show"
   ]
  },
  {
   "cell_type": "code",
   "execution_count": 2,
   "metadata": {},
   "outputs": [
    {
     "name": "stdout",
     "output_type": "stream",
     "text": [
      "             id  member_id  loan_amount  funded_amount  funded_amount_inv  \\\n",
      "0      13297208   15339420       8950.0         8950.0             8950.0   \n",
      "1      10234817   12096968      11200.0        11200.0            11200.0   \n",
      "2      10234813   12096964       8400.0         8400.0             8400.0   \n",
      "3      10234796   12096947       9600.0         9600.0             9600.0   \n",
      "4      10234755   12096906      15000.0        12000.0            15000.0   \n",
      "...         ...        ...          ...            ...                ...   \n",
      "20493    121673     121283       4500.0         4500.0             3000.0   \n",
      "20494    120215     118760       4000.0         4000.0             3575.0   \n",
      "20495    112245     112227       5000.0         5000.0             3975.0   \n",
      "20496    111227     111223      20000.0        20000.0             2800.0   \n",
      "20497     88046      88023       4400.0         4400.0             1400.0   \n",
      "\n",
      "            term   int_rate  instalment grade sub_grade  ... total_rec_int  \\\n",
      "0      36 months  17.860000      322.94     D        D5  ...       1393.65   \n",
      "1      36 months  10.990000      366.63     B        B2  ...       1512.80   \n",
      "2      36 months  10.990000      274.97     B        B2  ...        224.94   \n",
      "3      36 months  13.507328      322.77     B        B4  ...       1766.01   \n",
      "4      36 months  14.470000      516.10     C        C2  ...       3120.11   \n",
      "...          ...        ...         ...   ...       ...  ...           ...   \n",
      "20493  36 months   8.070000      141.15     A        A4  ...        581.17   \n",
      "20494  36 months   7.430000      124.31     A        A2  ...        474.19   \n",
      "20495  36 months   7.430000      155.38     A        A2  ...        593.39   \n",
      "20496  36 months  13.430000      678.08     E        E1  ...       4262.24   \n",
      "20497  36 months   9.640000      141.25     B        B4  ...        684.47   \n",
      "\n",
      "      total_rec_late_fee  recoveries collection_recovery_fee  \\\n",
      "0                    0.0         0.0                     0.0   \n",
      "1                    0.0         0.0                     0.0   \n",
      "2                    0.0         0.0                     0.0   \n",
      "3                    0.0         0.0                     0.0   \n",
      "4                    0.0         0.0                     0.0   \n",
      "...                  ...         ...                     ...   \n",
      "20493                0.0         0.0                     0.0   \n",
      "20494                0.0         0.0                     0.0   \n",
      "20495                0.0         0.0                     0.0   \n",
      "20496                0.0         0.0                     0.0   \n",
      "20497                0.0         0.0                     0.0   \n",
      "\n",
      "      last_payment_date last_payment_amount  last_credit_pull_date  \\\n",
      "0            2022-01-01              322.94             2022-01-01   \n",
      "1            2021-07-01             6481.18             2021-07-01   \n",
      "2            2020-04-01             8076.41             2020-04-01   \n",
      "3            2022-01-01              322.77             2022-01-01   \n",
      "4            2022-01-01              516.10             2022-01-01   \n",
      "...                 ...                 ...                    ...   \n",
      "20493        2016-08-01              143.80             2019-10-01   \n",
      "20494        2016-08-01              119.24             2021-04-01   \n",
      "20495        2016-08-01              158.65             2019-11-01   \n",
      "20496        2016-02-01              678.08             2022-01-01   \n",
      "20497        2016-06-01              143.28             2021-02-01   \n",
      "\n",
      "      collections_12_mths_ex_med  policy_code  application_type  \n",
      "0                            0.0            1        INDIVIDUAL  \n",
      "1                            0.0            1        INDIVIDUAL  \n",
      "2                            0.0            1        INDIVIDUAL  \n",
      "3                            0.0            1        INDIVIDUAL  \n",
      "4                            0.0            1        INDIVIDUAL  \n",
      "...                          ...          ...               ...  \n",
      "20493                        0.0            1        INDIVIDUAL  \n",
      "20494                        0.0            1        INDIVIDUAL  \n",
      "20495                        0.0            1        INDIVIDUAL  \n",
      "20496                        0.0            1        INDIVIDUAL  \n",
      "20497                        0.0            1        INDIVIDUAL  \n",
      "\n",
      "[20498 rows x 39 columns]\n"
     ]
    }
   ],
   "source": [
    "class DataTransform: # use the DataTransfrom class change to the right dtypes form the .csv df. \n",
    "    def __init__(self, df):\n",
    "        if not isinstance(df, pd.DataFrame):\n",
    "            raise ValueError(\"Input must be a Pandas DataFrame.\")\n",
    "        self.df = df\n",
    "\n",
    "    def change_dtypes(self, dtype_dict):\n",
    "        try:\n",
    "            for column, dtype in dtype_dict.items():\n",
    "                if column in self.df.columns:\n",
    "                    if dtype == \"datetime64\":\n",
    "                        self.df[column] = pd.to_datetime(self.df[column], errors='coerce')\n",
    "                    elif dtype == \"boolean\":\n",
    "                        self.df[column] = self.df[column].map({'y': True, 'n': False})\n",
    "                    else:\n",
    "                        self.df[column] = self.df[column].astype(dtype, errors='ignore')\n",
    "                else:\n",
    "                    raise KeyError(f\"Column '{column}' not found in DataFrame.\")\n",
    "            return self.df\n",
    "        except Exception as e:\n",
    "            raise RuntimeError(f\"Error whilst changing datatypes: {e}\")\n",
    "\n",
    "if __name__ == \"__main__\":\n",
    "    df_og = pd.read_csv(\"/Users/max/coding_resources/finance_loan_project/flp_df/flp_df7_4analysis.csv\")\n",
    "\n",
    "    transformer = DataTransform(df_og)\n",
    "\n",
    "    dtype_dict = {\n",
    "        \"id\": \"int64\",\n",
    "        \"member_id\": \"int64\",\n",
    "        \"loan_amount\": \"float64\",\n",
    "        \"term\": \"category\",\n",
    "        \"int_rate\": \"float64\",\n",
    "        \"grade\": \"category\",\n",
    "        \"sub_grade\": \"category\",\n",
    "        \"employment_length\": \"category\",\n",
    "        \"home_ownership\": \"category\",\n",
    "        \"annual_inc\": \"float64\",\n",
    "        \"verification_status\": \"category\",\n",
    "        \"issue_date\": \"datetime64\",\n",
    "        \"loan_status\": \"category\",\n",
    "        \"payment_plan\": \"bool\",\n",
    "        \"purpose\": \"category\",\n",
    "        \"dti\": \"float64\",\n",
    "        \"delinq_2yrs\": \"int64\",\n",
    "        \"earliest_credit_line\": \"datetime64\",\n",
    "        \"inq_last_6mths\": \"int64\",\n",
    "        \"open_accounts\": \"int64\",\n",
    "        \"total_accounts\": \"int64\",\n",
    "        \"out_prncp\": \"float64\",\n",
    "        \"total_payment\": \"float64\",\n",
    "        \"total_rec_int\": \"float64\",\n",
    "        \"total_rec_late_fee\": \"float64\",\n",
    "        \"recoveries\": \"float64\",\n",
    "        \"collection_recovery_fee\": \"float64\",\n",
    "        \"last_payment_date\": \"datetime64\",\n",
    "        \"last_payment_amount\": \"float64\",\n",
    "        \"last_credit_pull_date\": \"datetime64\",\n",
    "        \"collections_12_mths_ex_med\": \"category\",\n",
    "        \"policy_code\": \"int64\",\n",
    "        \"application_type\": \"category\"\n",
    "    }\n",
    "\n",
    "    df_fin_x = transformer.change_dtypes(dtype_dict)\n",
    "\n",
    "df_fin = df_fin_x.drop(columns=[\"Unnamed: 0\"])\n",
    "    \n",
    "print(df_fin)"
   ]
  },
  {
   "cell_type": "code",
   "execution_count": 6,
   "metadata": {},
   "outputs": [
    {
     "name": "stderr",
     "output_type": "stream",
     "text": [
      "PandasGUI INFO — pandasgui.gui — Opening PandasGUI\n",
      "/var/folders/p9/8l6hsxms1mg7zkrszrjhyg8r0000gn/T/ipykernel_19966/3307027400.py:1: FutureWarning:\n",
      "\n",
      "Series.__getitem__ treating keys as positions is deprecated. In a future version, integer keys will always be treated as labels (consistent with DataFrame behavior). To access a value by position, use `ser.iloc[pos]`\n",
      "\n",
      "/var/folders/p9/8l6hsxms1mg7zkrszrjhyg8r0000gn/T/ipykernel_19966/3307027400.py:1: FutureWarning:\n",
      "\n",
      "Series.__getitem__ treating keys as positions is deprecated. In a future version, integer keys will always be treated as labels (consistent with DataFrame behavior). To access a value by position, use `ser.iloc[pos]`\n",
      "\n",
      "/var/folders/p9/8l6hsxms1mg7zkrszrjhyg8r0000gn/T/ipykernel_19966/3307027400.py:1: FutureWarning:\n",
      "\n",
      "Series.__getitem__ treating keys as positions is deprecated. In a future version, integer keys will always be treated as labels (consistent with DataFrame behavior). To access a value by position, use `ser.iloc[pos]`\n",
      "\n",
      "/var/folders/p9/8l6hsxms1mg7zkrszrjhyg8r0000gn/T/ipykernel_19966/3307027400.py:1: FutureWarning:\n",
      "\n",
      "Series.__getitem__ treating keys as positions is deprecated. In a future version, integer keys will always be treated as labels (consistent with DataFrame behavior). To access a value by position, use `ser.iloc[pos]`\n",
      "\n",
      "/var/folders/p9/8l6hsxms1mg7zkrszrjhyg8r0000gn/T/ipykernel_19966/3307027400.py:1: FutureWarning:\n",
      "\n",
      "Series.__getitem__ treating keys as positions is deprecated. In a future version, integer keys will always be treated as labels (consistent with DataFrame behavior). To access a value by position, use `ser.iloc[pos]`\n",
      "\n",
      "/var/folders/p9/8l6hsxms1mg7zkrszrjhyg8r0000gn/T/ipykernel_19966/3307027400.py:1: FutureWarning:\n",
      "\n",
      "Series.__getitem__ treating keys as positions is deprecated. In a future version, integer keys will always be treated as labels (consistent with DataFrame behavior). To access a value by position, use `ser.iloc[pos]`\n",
      "\n"
     ]
    },
    {
     "data": {
      "text/plain": [
       "<pandasgui.gui.PandasGui at 0x16bbe53f0>"
      ]
     },
     "execution_count": 6,
     "metadata": {},
     "output_type": "execute_result"
    }
   ],
   "source": [
    "show(df_fin)"
   ]
  },
  {
   "cell_type": "code",
   "execution_count": 10,
   "metadata": {},
   "outputs": [
    {
     "name": "stdout",
     "output_type": "stream",
     "text": [
      "Index(['id', 'member_id', 'loan_amount', 'term', 'int_rate', 'grade',\n",
      "       'sub_grade', 'employment_length', 'home_ownership', 'annual_inc',\n",
      "       'verification_status', 'issue_date', 'loan_status', 'payment_plan',\n",
      "       'purpose', 'dti', 'delinq_2yrs', 'earliest_credit_line',\n",
      "       'inq_last_6mths', 'open_accounts', 'total_accounts', 'out_prncp',\n",
      "       'total_payment', 'total_rec_int', 'total_rec_late_fee', 'recoveries',\n",
      "       'collection_recovery_fee', 'last_payment_date', 'last_payment_amount',\n",
      "       'last_credit_pull_date', 'collections_12_mths_ex_med', 'policy_code',\n",
      "       'application_type'],\n",
      "      dtype='object')\n"
     ]
    }
   ],
   "source": [
    "print(df_fin.columns)"
   ]
  },
  {
   "cell_type": "markdown",
   "metadata": {},
   "source": [
    "Summary:\n",
    "\n",
    "This is just a coderun for visualizing the data in in pandas gui, so data information can be looked up while tasks performed. "
   ]
  }
 ],
 "metadata": {
  "kernelspec": {
   "display_name": "myenv",
   "language": "python",
   "name": "python3"
  },
  "language_info": {
   "codemirror_mode": {
    "name": "ipython",
    "version": 3
   },
   "file_extension": ".py",
   "mimetype": "text/x-python",
   "name": "python",
   "nbconvert_exporter": "python",
   "pygments_lexer": "ipython3",
   "version": "3.11.10"
  }
 },
 "nbformat": 4,
 "nbformat_minor": 2
}
